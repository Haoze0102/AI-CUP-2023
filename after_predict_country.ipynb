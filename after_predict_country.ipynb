{
  "cells": [
    {
      "cell_type": "markdown",
      "metadata": {
        "id": "X506rKQIpgDc"
      },
      "source": [
        "### Modify the paths in the next two cells."
      ]
    },
    {
      "cell_type": "code",
      "execution_count": 7,
      "metadata": {
        "id": "hI_df8rzJarC"
      },
      "outputs": [],
      "source": [
        "# predicted answer\n",
        "answer_path = \"/home/Arthur/aicup/final/finalsub_revised1202.txt\"\n",
        "# test dataset tsv\n",
        "tsv_path = \"/home/Arthur/aicup/final/opendid_test.tsv\"\n",
        "# post processing\n",
        "submission = \"/home/Arthur/aicup/final/answer.txt\"\n",
        "# country\n",
        "country_path = '/home/Arthur/aicup/final/country.txt'"
      ]
    },
    {
      "cell_type": "code",
      "execution_count": 8,
      "metadata": {
        "id": "A37kfwVMJMrC"
      },
      "outputs": [],
      "source": [
        "countries = {}\n",
        "\n",
        "with open(country_path, 'r', encoding='utf-8') as f:\n",
        "  for line in f.readlines():\n",
        "    words = line.split('\\t')\n",
        "    for w in words:\n",
        "      if w.strip():\n",
        "        countries[w.strip('\\n')] = words[0]"
      ]
    },
    {
      "cell_type": "code",
      "execution_count": 13,
      "metadata": {
        "id": "n-fbo6BVYfmA"
      },
      "outputs": [],
      "source": [
        "sub = open(submission, 'w', encoding=\"utf-8\")\n",
        "tsv = open(tsv_path, 'r', encoding='utf-8')"
      ]
    },
    {
      "cell_type": "code",
      "execution_count": 14,
      "metadata": {
        "id": "I_qNNvzcwW84"
      },
      "outputs": [],
      "source": [
        "def detect(private, line):\n",
        "  A_index = line.find(private[0])\n",
        "  index = [A_index]\n",
        "  temp = private[0]\n",
        "  temp_index = A_index\n",
        "  #find first phi\n",
        "  if A_index >= 0:\n",
        "    for i in range(1, len(private)):\n",
        "      if index[i-1] > 0:\n",
        "        temp_index = index[i-1]\n",
        "      if '\\n' in private[i]:\n",
        "        index.append(line.find(private[i][:-1], temp_index+len(temp)))\n",
        "        temp = private[i][:-1]\n",
        "      else:\n",
        "        index.append(line.find(private[i], temp_index+len(temp)))\n",
        "        temp = private[i]\n",
        "\n",
        "  #can't find first phi\n",
        "  else:\n",
        "    for i in range(1, len(private)):\n",
        "      if index[i-1] > 0:\n",
        "        temp_index = index[i-1]\n",
        "      if '\\n' in private[i]:\n",
        "        index.append(line.find(private[i][:-1], temp_index+len(temp)))\n",
        "        temp = private[i][:-1]\n",
        "      else:\n",
        "        index.append(line.find(private[i], temp_index+len(temp)))\n",
        "        temp = private[i]\n",
        "  #print(private, index)\n",
        "  return index"
      ]
    },
    {
      "cell_type": "code",
      "execution_count": 15,
      "metadata": {
        "id": "MwhEEIaFKdDf"
      },
      "outputs": [],
      "source": [
        "sub = open(submission, 'w', encoding=\"utf-8\")\n",
        "tsv = open(tsv_path, 'r', encoding='utf-8')\n",
        "#tsv = open(tsv_path, 'r', encoding='utf-8')\n",
        "phi = ['PATIENT', 'DOCTOR', 'USERNAME', 'PROFESSION', 'ROOM', 'DEPARTMENT', 'HOSPITAL', 'ORGANIZATION', 'STREET', 'CITY', 'STATE', 'COUNTRY', 'ZIP', 'LOCATION-OTHER', 'AGE', 'DATE',\n",
        "      'TIME', 'DURATION', 'SET', 'PHONE', 'FAX', 'EMAIL', 'URL', 'IPADDR', 'SSN', 'MEDICALRECORD', 'HEALTHPLAN', 'ACCOUNT', 'LICENSE', 'VECHICLE', 'DEVICE', 'BIOID', 'IDNUM', 'OTHER']\n",
        "time = ['DATE', 'TIME', 'DURATION', 'SET']\n",
        "with open(answer_path, 'r', encoding=\"utf-8\") as answer:\n",
        "  tsv_line = tsv.readlines()\n",
        "  max_length = len(tsv_line)\n",
        "  tsv_index = 0\n",
        "  #print(tsv_line)\n",
        "  for line in answer.readlines():\n",
        "    words = line.split('\\t')\n",
        "    file_name = words[0]\n",
        "    phi_name = words[1]\n",
        "    start = words[2]\n",
        "    end = words[3]\n",
        "    data = '\\t'.join(words[4:])\n",
        "    #print(line)\n",
        "    #drop phi not included in rules\n",
        "    if phi_name not in phi:\n",
        "      continue\n",
        "\n",
        "    #print('answer : ' + file_name + ' ' + start + 'tsv:' + tsv_line[tsv_index].split('\\t')[0] + ' ' + tsv_line[tsv_index].split('\\t')[1])\n",
        "    #tsv and answer not in the smae file\n",
        "    while file_name > tsv_line[tsv_index].split('\\t')[0]:\n",
        "      tsv_index += 1\n",
        "      if tsv_index >= max_length:\n",
        "        tsv_index -= 1\n",
        "        break\n",
        "    while int(tsv_line[tsv_index].split('\\t')[1]) <= int(start) and file_name == tsv_line[tsv_index].split('\\t')[0]:\n",
        "      tsv_index += 1\n",
        "      if tsv_index >= max_length:\n",
        "        break\n",
        "    tsv_index -= 1\n",
        "    '''if file_name != tsv_line[tsv_index].split('\\t')[0]:\n",
        "      print(line)\n",
        "      print(tsv_line[tsv_index])\n",
        "      break'''\n",
        "\n",
        "    #multiple phi in one line\n",
        "    if '\\\\n' in data:\n",
        "      counts = data.split('\\\\n')\n",
        "      phi_type, phi_data, normalized = [phi_name], [], []\n",
        "\n",
        "      if phi_name in time:\n",
        "        time_split = counts[0].split('\\t')\n",
        "        phi_data.append(time_split[0])\n",
        "        normalized.append('\\t'.join(time_split[1:]).strip())\n",
        "      elif phi_name == 'COUNTRY':\n",
        "        content = tsv_line[tsv_index].split('\\t')[2]\n",
        "        country_count = 0\n",
        "        for country in countries:\n",
        "          country_count += 1\n",
        "          if country in content:\n",
        "            phi_data.append(country)\n",
        "            break\n",
        "        #can't fine country\n",
        "        if country_count >= max_length:\n",
        "          phi_type = []\n",
        "      else:\n",
        "        phi_data.append(counts[0])\n",
        "\n",
        "\n",
        "\n",
        "      for i in range(1, len(counts)):\n",
        "        temp_phi = counts[i].split(':')[0]\n",
        "        if temp_phi not in phi:\n",
        "          continue\n",
        "        if temp_phi in time:\n",
        "          time_split = counts[i].split('\\t')\n",
        "          temp = ':'.join(time_split[0].split(':')[1:])\n",
        "          normalized.append('\\t'.join(time_split[1:]).strip())\n",
        "        elif temp_phi == 'COUNTRY':\n",
        "          content = tsv_line[tsv_index].split('\\t')[2]\n",
        "          #print(tsv_line[tsv_index])\n",
        "          #print(line)\n",
        "          for country in countries:\n",
        "            if country in content:\n",
        "              phi_type.append(temp_phi)\n",
        "              phi_data.append(countries[country])\n",
        "              break\n",
        "        else:\n",
        "          temp = ':'.join(counts[i].split(':')[1:])\n",
        "        phi_type.append(temp_phi)\n",
        "        phi_data.append(temp.strip())\n",
        "\n",
        "      time_count = 0\n",
        "      count = 0\n",
        "\n",
        "\n",
        "      temp_index = tsv_index\n",
        "      while count < 3 and file_name == tsv_line[tsv_index].split('\\t')[0]:\n",
        "        split_tsv = tsv_line[tsv_index].split('\\t')\n",
        "        line_start = int(split_tsv[1])\n",
        "        data_tsv = '\\t'.join(split_tsv[2:])\n",
        "        return_index = detect(phi_data, data_tsv)\n",
        "\n",
        "\n",
        "        #can't find phi in this line\n",
        "        if len(set(return_index)) == 1 and return_index[0] == -1:\n",
        "          if int(tsv_line[tsv_index].split('\\t')[1]) > int(start) and file_name == tsv_line[tsv_index].split('\\t')[0]:\n",
        "            #print(file_name,int(tsv_line[tsv_index].split('\\t')[1]) , int(start))\n",
        "            count += 1\n",
        "          tsv_index += 1\n",
        "\n",
        "        #find in this line\n",
        "        else:\n",
        "          T = 0\n",
        "          '''if '1066' in line:\n",
        "            T += 1\n",
        "            print(return_index)\n",
        "            print(phi_data)'''\n",
        "\n",
        "          #calculate start and end index\n",
        "          split_tsv = tsv_line[tsv_index].split('\\t')\n",
        "          data_tsv = '\\t'.join(split_tsv[2:])\n",
        "          line_start = int(split_tsv[1])\n",
        "\n",
        "          #print(line_start,phi_data)\n",
        "          for i in range(len(return_index)):\n",
        "            if return_index[i] < 0:\n",
        "              continue\n",
        "            temp = phi_data[i]\n",
        "            phi_name = phi_type[i]\n",
        "            index = return_index[i]\n",
        "            start = line_start + index\n",
        "            if '\\n' in temp:\n",
        "              end = start + len(temp) -1\n",
        "              temp = temp[:-1]\n",
        "            else:\n",
        "              end = start + len(temp)\n",
        "            #write into file\n",
        "            if phi_name in time:\n",
        "              sub.write('\\t'.join([file_name, phi_name, str(start), str(end), temp, normalized[time_count]])+'\\n')\n",
        "              #print('\\t'.join([file_name, phi_name, str(start), str(end), temp, normalized[time_count]]))\n",
        "              if T:\n",
        "                print('\\t'.join([file_name, phi_name, str(start), str(end), temp]))\n",
        "              time_count += 1\n",
        "            elif phi_name == 'COUNTRY':\n",
        "              sub.write('\\t'.join([file_name, phi_name, str(start), str(end), countries[temp]])+'\\n')\n",
        "              #print('\\t'.join([file_name, phi_name, str(start), str(end), countries[temp]])+'\\n')\n",
        "            else:\n",
        "              sub.write('\\t'.join([file_name, phi_name, str(start), str(end), temp])+'\\n')\n",
        "              if T:\n",
        "                print('\\t'.join([file_name, phi_name, str(start), str(end), temp]))\n",
        "          tsv_index += 1\n",
        "          break\n",
        "      tsv_index = temp_index\n",
        "\n",
        "    #no problem line\n",
        "    else:\n",
        "      if phi_name == 'COUNTRY':\n",
        "        content = tsv_line[tsv_index].split('\\t')[2]\n",
        "        country_count = 0\n",
        "        for country in countries:\n",
        "          country_count += 1\n",
        "          if country in content:\n",
        "            print('c: '+country)\n",
        "            print(content)\n",
        "            data = countries[country]\n",
        "            break\n",
        "        if country_count < len(countries):\n",
        "          sub.write('\\t'.join([file_name, phi_name, str(start), str(end), data]))\n",
        "          #print('\\t'.join([file_name, phi_name, str(start), str(end), data]))\n",
        "      else:\n",
        "        #write into file\n",
        "        sub.write('\\t'.join([file_name, phi_name, str(start), str(end), data]))\n",
        "        #print('\\t'.join([file_name, phi_name, str(start), str(end), data]))\n"
      ]
    },
    {
      "cell_type": "code",
      "execution_count": 16,
      "metadata": {
        "id": "ZTSAIQ3SQ3jQ"
      },
      "outputs": [],
      "source": [
        "sub.close()\n",
        "tsv.close()"
      ]
    },
    {
      "cell_type": "code",
      "execution_count": 23,
      "metadata": {
        "id": "zt4Tlv6bbmbx"
      },
      "outputs": [
        {
          "data": {
            "text/plain": [
              "60"
            ]
          },
          "execution_count": 23,
          "metadata": {},
          "output_type": "execute_result"
        }
      ],
      "source": [
        "s = \"Additional history from Dr BAILEY Bacayo, testicular tumour forty years ago.\"\n",
        "s.find('forty years')"
      ]
    },
    {
      "cell_type": "code",
      "execution_count": 24,
      "metadata": {},
      "outputs": [
        {
          "data": {
            "text/plain": [
              "11"
            ]
          },
          "execution_count": 24,
          "metadata": {},
          "output_type": "execute_result"
        }
      ],
      "source": [
        "s = 'forty years'\n",
        "len(s)"
      ]
    },
    {
      "cell_type": "code",
      "execution_count": null,
      "metadata": {},
      "outputs": [],
      "source": []
    }
  ],
  "metadata": {
    "colab": {
      "provenance": []
    },
    "kernelspec": {
      "display_name": "Python 3",
      "name": "python3"
    },
    "language_info": {
      "codemirror_mode": {
        "name": "ipython",
        "version": 3
      },
      "file_extension": ".py",
      "mimetype": "text/x-python",
      "name": "python",
      "nbconvert_exporter": "python",
      "pygments_lexer": "ipython3",
      "version": "3.11.5"
    }
  },
  "nbformat": 4,
  "nbformat_minor": 0
}
