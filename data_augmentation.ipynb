{
  "cells": [
    {
      "cell_type": "markdown",
      "metadata": {},
      "source": [
        "### Team Name: TEAM_4683"
      ]
    },
    {
      "cell_type": "code",
      "execution_count": null,
      "metadata": {
        "colab": {
          "base_uri": "https://localhost:8080/"
        },
        "id": "KthMcjhDA_wJ",
        "outputId": "f8156277-896b-447d-c95f-17fb88ed3721"
      },
      "outputs": [
        {
          "name": "stdout",
          "output_type": "stream",
          "text": [
            "Drive already mounted at /content/drive; to attempt to forcibly remount, call drive.mount(\"/content/drive\", force_remount=True).\n"
          ]
        }
      ],
      "source": [
        "from google.colab import drive\n",
        "drive.mount('/content/drive')\n",
        "import os, sys\n",
        "os.chdir('/content/drive/MyDrive/aicup')"
      ]
    },
    {
      "cell_type": "code",
      "execution_count": null,
      "metadata": {
        "id": "99zfPbMQj6Ii"
      },
      "outputs": [],
      "source": [
        "! pip install cohere tiktoken\n",
        "! pip install cohere tiktoken\n",
        "! pip install openai"
      ]
    },
    {
      "cell_type": "code",
      "execution_count": null,
      "metadata": {
        "id": "qdIyuXk7jx1C"
      },
      "outputs": [],
      "source": [
        "from openai import OpenAI\n",
        "\n",
        "client = OpenAI(organization=\"Your Organization\",\n",
        "                api_key=\"Your API key\")"
      ]
    },
    {
      "cell_type": "code",
      "execution_count": null,
      "metadata": {
        "id": "wnLuoNuUMfYP"
      },
      "outputs": [],
      "source": [
        "def generate_content(phi, content):\n",
        "\n",
        "  prompt = [{\"role\": \"user\",\n",
        "             \"content\": f\"{content}##phi_type:{phi}. Please generate 20 examples according to the sentence I give to you.\"}]\n",
        "\n",
        "\n",
        "    # Call OpenAI API for data generation\n",
        "  response = client.chat.completions.create( model=\"gpt-3.5-turbo\",\n",
        "                                             messages=prompt,\n",
        "                                             temperature=0.5 )\n",
        "\n",
        "  results = response.choices[0].message.content.split(\"\\n\")\n",
        "\n",
        "  return results\n"
      ]
    },
    {
      "cell_type": "code",
      "execution_count": null,
      "metadata": {
        "colab": {
          "base_uri": "https://localhost:8080/"
        },
        "id": "OWk9u7LFNrzd",
        "outputId": "487648d3-bd1a-44e4-c8b8-1bcdea44520a"
      },
      "outputs": [
        {
          "data": {
            "text/plain": [
              "['1. Despite undergoing a distal gastrectomy for gastric cancer 6 years ago, I have been living a healthy life.',\n",
              " '2. It has been 6 years since I had a distal gastrectomy for gastric cancer, and I am grateful for my improved health.',\n",
              " '3. After my distal gastrectomy 6 years ago, I have been cancer-free and enjoying life to the fullest.',\n",
              " '4. Six years have passed since my distal gastrectomy for gastric cancer, and I am thankful for the successful treatment.',\n",
              " '5. Since my distal gastrectomy 6 years ago, I have been following a strict diet and lifestyle to maintain my health.',\n",
              " \"6. It's been 6 years since I underwent a distal gastrectomy for gastric cancer, and I am proud of my recovery journey.\",\n",
              " '7. After my distal gastrectomy 6 years ago, I have been regularly monitoring my health to ensure there is no recurrence.',\n",
              " '8. Six years have elapsed since my distal gastrectomy, and I am happy to say that I am cancer-free.',\n",
              " '9. Since my distal gastrectomy 6 years ago, I have been actively participating in cancer awareness campaigns to help others.',\n",
              " '10. It has been 6 years since I underwent a distal gastrectomy for gastric cancer, and I am grateful for the medical advancements that saved my life.',\n",
              " '11. After my distal gastrectomy 6 years ago, I have been focusing on maintaining a healthy lifestyle to reduce the risk of cancer recurrence.',\n",
              " '12. Six years have passed since my distal gastrectomy, and I am thankful for the support of my loved ones during my recovery.',\n",
              " '13. Since my distal gastrectomy 6 years ago, I have been advocating for early detection and regular screenings to prevent gastric cancer.',\n",
              " \"14. It's been 6 years since I underwent a distal gastrectomy, and I am amazed at how far I've come in my journey towards better health.\",\n",
              " '15. After my distal gastrectomy 6 years ago, I have been cherishing each day and living life to the fullest.',\n",
              " '16. Six years have elapsed since my distal gastrectomy for gastric cancer, and I am determined to make the most out of every moment.',\n",
              " '17. Since my distal gastrectomy 6 years ago, I have been actively involved in raising awareness about gastric cancer and its prevention.',\n",
              " '18. It has been 6 years since I had a distal gastrectomy, and I am grateful for the skilled surgeons who performed the procedure.',\n",
              " '19. After my distal gastrectomy 6 years ago, I have been dedicated to spreading hope and positivity to others battling cancer.',\n",
              " '20. Six years have passed since my distal gastrectomy, and I am proud of the resilience I have shown throughout my cancer journey.']"
            ]
          },
          "execution_count": 5,
          "metadata": {},
          "output_type": "execute_result"
        }
      ],
      "source": [
        "# Example\n",
        "phi_type = \"DURATION: 6 years=>P6Y\"\n",
        "sentence_format = \"Previous gastric cancer 6 years ago - distal gastrectomy.\"\n",
        "results = generate_content(phi_type, sentence_format)\n",
        "\n",
        "results"
      ]
    },
    {
      "cell_type": "code",
      "execution_count": null,
      "metadata": {
        "colab": {
          "base_uri": "https://localhost:8080/"
        },
        "id": "qc4cNLJ0U9Uq",
        "outputId": "9f562592-fa42-44cf-b471-70b644a894e4"
      },
      "outputs": [
        {
          "data": {
            "text/plain": [
              "['1. The Australian Centre for Genomic Analysis does not offer MDR3 gene analysis.',\n",
              " \"2. I couldn't find any Australian research centres specializing in MDR3 gene analysis.\",\n",
              " '3. Unfortunately, there are no known facilities in Australia that provide MDR3 gene analysis.',\n",
              " '4. As far as my knowledge goes, no Australian centers offer MDR3 gene analysis.',\n",
              " '5. I am not aware of any Australian institutions that conduct MDR3 gene analysis.',\n",
              " '6. There are no known Australian centers that specialize in MDR3 gene analysis.',\n",
              " '7. To the best of my knowledge, there are no Australian facilities offering MDR3 gene analysis.',\n",
              " \"8. I couldn't find any Australian centers that provide MDR3 gene analysis services.\",\n",
              " '9. As per my information, there are no Australian research institutes offering MDR3 gene analysis.',\n",
              " '10. Unfortunately, there are no known Australian centers equipped for MDR3 gene analysis.',\n",
              " '11. I am not aware of any Australian research centers that conduct MDR3 gene analysis.',\n",
              " '12. There are no known Australian institutions that offer MDR3 gene analysis.',\n",
              " '13. To the best of my knowledge, there are no Australian facilities specializing in MDR3 gene analysis.',\n",
              " \"14. I couldn't find any Australian centers that have expertise in MDR3 gene analysis.\",\n",
              " '15. As per my information, there are no Australian research institutes specializing in MDR3 gene analysis.',\n",
              " '16. Unfortunately, there are no known Australian centers capable of conducting MDR3 gene analysis.',\n",
              " '17. I am not aware of any Australian research centers equipped for MDR3 gene analysis.',\n",
              " '18. There are no known Australian institutions that provide MDR3 gene analysis services.',\n",
              " '19. To the best of my knowledge, there are no Australian facilities that offer MDR3 gene analysis.',\n",
              " \"20. I couldn't find any Australian centers that offer MDR3 gene analysis as a service.\"]"
            ]
          },
          "execution_count": 6,
          "metadata": {},
          "output_type": "execute_result"
        }
      ],
      "source": [
        "# Example 2\n",
        "phi_type = \"COUNTRY: Australia\"\n",
        "sentence_format = \"I am not aware of any Australian centres that provided MDR3 gene analysis.\"\n",
        "\n",
        "results = generate_content(phi_type, sentence_format)\n",
        "results"
      ]
    },
    {
      "cell_type": "code",
      "execution_count": null,
      "metadata": {
        "id": "cy8QhC3pukRp"
      },
      "outputs": [],
      "source": [
        "def process_results(results, phi, file_name, line_start):\n",
        "    temp = []\n",
        "\n",
        "    for i in range(len(results)):\n",
        "        content_line = results[i].split(\".\", 1)[1]\n",
        "        temp_line = [file_name, line_start, content_line, phi]\n",
        "        temp.append(temp_line)\n",
        "\n",
        "    return temp"
      ]
    },
    {
      "cell_type": "code",
      "execution_count": null,
      "metadata": {
        "id": "ZBaRrMVuun14"
      },
      "outputs": [],
      "source": [
        "path = '/content/drive/MyDrive/aicup/merged_20231127.tsv'\n",
        "new = open('/content/drive/MyDrive/aicup/data_augmentation_20231128.tsv', 'w', encoding='utf-8')"
      ]
    },
    {
      "cell_type": "code",
      "execution_count": null,
      "metadata": {
        "id": "ltwyHIhPuLav"
      },
      "outputs": [],
      "source": [
        "with open(path, 'r', encoding='utf-8') as f:\n",
        "\n",
        "\n",
        "  count = 0\n",
        "  for sentences in f.readlines():\n",
        "\n",
        "    words = sentences.split('\\t')\n",
        "    file_name = words[0]\n",
        "    line_start = words[1]\n",
        "    content = '\\t'.join(words[2:-1])\n",
        "    phi = words[-1]\n",
        "\n",
        "    new.write(sentences)\n",
        "\n",
        "    if 'COUNTRY:' in phi:\n",
        "      print('COUNTRY')\n",
        "      count += 1\n",
        "      new_content = generate_content(phi, content)\n",
        "      new_rows = process_results(new_content, phi, file_name, line_start)\n",
        "\n",
        "      for row in new_rows:\n",
        "        new.write(\"\\t\".join(row))\n",
        "\n",
        "\n",
        "    if 'LOCATION-OTHER:' in phi:\n",
        "      print('LOCATION-OTHE')\n",
        "      count += 1\n",
        "      new_rows = []\n",
        "      for i in range(10):\n",
        "        temp_line = [file_name, line_start, content, phi]\n",
        "        new_rows.append(temp_line)\n",
        "\n",
        "      for row in new_rows:\n",
        "        new.write(\"\\t\".join(row))\n",
        "\n",
        "\n",
        "\n",
        "    if 'DURATION:' in phi:\n",
        "      print('DURATION')\n",
        "      count += 1\n",
        "      new_content = generate_content(phi, content)\n",
        "      new_rows = process_results(new_content, phi, file_name, line_start)\n",
        "\n",
        "\n",
        "      for row in new_rows:\n",
        "        new.write(\"\\t\".join(row))"
      ]
    },
    {
      "cell_type": "code",
      "execution_count": null,
      "metadata": {
        "id": "I5fJmG-onO12"
      },
      "outputs": [],
      "source": [
        "new.close()"
      ]
    }
  ],
  "metadata": {
    "colab": {
      "provenance": []
    },
    "kernelspec": {
      "display_name": "Python 3",
      "name": "python3"
    },
    "language_info": {
      "name": "python"
    }
  },
  "nbformat": 4,
  "nbformat_minor": 0
}
